{
 "cells": [
  {
   "cell_type": "code",
   "execution_count": 12,
   "metadata": {},
   "outputs": [],
   "source": [
    "import numpy as np\n",
    "array1 = np.array(range(30))\n",
    "array2 = np.array([2,3,5])\n",
    "\n",
    "with open('Homework_array.npz', 'wb') as f:\n",
    "    np.savez(f, first_array=array1, second_array=array2)"
   ]
  },
  {
   "cell_type": "code",
   "execution_count": 13,
   "metadata": {},
   "outputs": [
    {
     "name": "stdout",
     "output_type": "stream",
     "text": [
      "[ 0  1  2  3  4  5  6  7  8  9 10 11 12 13 14 15 16 17 18 19 20 21 22 23\n",
      " 24 25 26 27 28 29]\n",
      "[2 3 5]\n",
      "[0 1 2 3 4 5 6 7 8 9]\n",
      "[0 1 2 3 4 5 6 7 8 9]\n",
      "[0.5788873  0.69082947 0.04922545 0.86517602 0.29889969 0.55285575\n",
      " 0.69389689 0.49183867 0.8308363  0.06454569]\n",
      "[1 2]\n"
     ]
    }
   ],
   "source": [
    "import numpy as np\n",
    "Homeworkfile = np.load('Homework_array.npz')\n",
    "npzfile = np.load('multi_array.npz')\n",
    "npyfile = np.load('one_array.npy')\n",
    "x = np.load('one_array.npy')\n",
    "\n",
    "print(Homeworkfile['first_array'])\n",
    "print(Homeworkfile['second_array'])\n",
    "print(npzfile['array1'])\n",
    "print(npzfile['array1'])\n",
    "print(npzfile['array3'])\n",
    "print(x)\n",
    "\n",
    "a1 = Homeworkfile['first_array']\n",
    "a2 = Homeworkfile['second_array']\n",
    "b1 = npzfile['array1']\n",
    "b2 = npzfile['array2']\n",
    "b3 = npzfile['array3']\n",
    "c1 = x\n",
    "\n",
    "with open('Homework_multi_array.npz', 'wb') as f:\n",
    "    np.savez(f,array1= a1,\n",
    "                array2= a2,\n",
    "                array3= b1,\n",
    "                array4= b2,\n",
    "                array5= b3,\n",
    "                array6= c1)\n",
    "\n"
   ]
  },
  {
   "cell_type": "code",
   "execution_count": 15,
   "metadata": {},
   "outputs": [
    {
     "name": "stdout",
     "output_type": "stream",
     "text": [
      "[ 0  1  2  3  4  5  6  7  8  9 10 11 12 13 14 15 16 17 18 19 20 21 22 23\n",
      " 24 25 26 27 28 29]\n",
      "[2 3 5]\n",
      "[0 1 2 3 4 5 6 7 8 9]\n",
      "[1 2 3]\n",
      "[0.5788873  0.69082947 0.04922545 0.86517602 0.29889969 0.55285575\n",
      " 0.69389689 0.49183867 0.8308363  0.06454569]\n",
      "[1 2]\n"
     ]
    }
   ],
   "source": [
    "import numpy as np\n",
    "npzfile = np.load('Homework_multi_array.npz')\n",
    "print(npzfile['array1'])\n",
    "print(npzfile['array2'])\n",
    "print(npzfile['array3'])\n",
    "print(npzfile['array4'])\n",
    "print(npzfile['array5'])\n",
    "print(npzfile['array6'])"
   ]
  },
  {
   "cell_type": "code",
   "execution_count": null,
   "metadata": {},
   "outputs": [],
   "source": []
  }
 ],
 "metadata": {
  "kernelspec": {
   "display_name": "Python 3",
   "language": "python",
   "name": "python3"
  },
  "language_info": {
   "codemirror_mode": {
    "name": "ipython",
    "version": 3
   },
   "file_extension": ".py",
   "mimetype": "text/x-python",
   "name": "python",
   "nbconvert_exporter": "python",
   "pygments_lexer": "ipython3",
   "version": "3.8.5"
  }
 },
 "nbformat": 4,
 "nbformat_minor": 4
}
