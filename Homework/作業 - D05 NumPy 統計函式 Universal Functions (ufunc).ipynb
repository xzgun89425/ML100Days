{
 "cells": [
  {
   "cell_type": "code",
   "execution_count": null,
   "metadata": {},
   "outputs": [],
   "source": []
  },
  {
   "cell_type": "code",
   "execution_count": 16,
   "metadata": {},
   "outputs": [
    {
     "name": "stdout",
     "output_type": "stream",
     "text": [
      "英文 平均: 67.2 最大值: 89 最小值: 48 標準差: 13.43\n",
      "數學 平均: 66.6 最大值: 85.0 最小值: 60.0 標準差: 9.71\n",
      "國文 平均: 75.3 最大值: 90 最小值: 65 標準差: 8.83\n"
     ]
    }
   ],
   "source": [
    "import numpy as np\n",
    "english_score = np.array([55,89,76,65,48,70])\n",
    "math_score = np.array([60,85,60,68,np.nan,60])\n",
    "chinese_score = np.array([65,90,82,72,66,77])\n",
    "e_mean = np.mean(english_score)\n",
    "e_maximum = np.nanmax(english_score)\n",
    "e_minimum = np.nanmin(english_score)\n",
    "e_std = np.std(english_score)\n",
    "\n",
    "m_mean = np.nanmean(math_score)\n",
    "m_maximum = np.nanmax(math_score)\n",
    "m_minimum = np.nanmin(math_score)\n",
    "m_std = np.nanstd(math_score)\n",
    "\n",
    "c_mean = np.mean(chinese_score)\n",
    "c_maximum = np.amax(chinese_score)\n",
    "c_minimum = np.amin(chinese_score)\n",
    "c_std = np.std(chinese_score)\n",
    "\n",
    "print(\"英文 平均:\",np.round(e_mean,1),\"最大值:\",e_maximum,\"最小值:\",e_minimum,\"標準差:\",np.round(e_std,2))\n",
    "print(\"數學 平均:\",np.round(m_mean,1),\"最大值:\",m_maximum,\"最小值:\",m_minimum,\"標準差:\",np.round(m_std,2))\n",
    "print(\"國文 平均:\",np.round(c_mean,1),\"最大值:\",c_maximum,\"最小值:\",c_minimum,\"標準差:\",np.round(c_std,2))\n"
   ]
  },
  {
   "cell_type": "code",
   "execution_count": 17,
   "metadata": {},
   "outputs": [
    {
     "name": "stdout",
     "output_type": "stream",
     "text": [
      "數學 平均: 64.7 最大值: 85 最小值: 55 標準差: 9.86\n"
     ]
    }
   ],
   "source": [
    "import numpy as np\n",
    "math_score = np.array([60,85,60,68,55,60])\n",
    "m_mean = np.mean(math_score)\n",
    "m_maximum = np.max(math_score)\n",
    "m_minimum = np.min(math_score)\n",
    "m_std = np.std(math_score)\n",
    "print(\"數學 平均:\",np.round(m_mean,1),\"最大值:\",m_maximum,\"最小值:\",m_minimum,\"標準差:\",np.round(m_std,2))"
   ]
  },
  {
   "cell_type": "code",
   "execution_count": 25,
   "metadata": {},
   "outputs": [
    {
     "name": "stdout",
     "output_type": "stream",
     "text": [
      "國文與數學: [[1.         0.74056803]\n",
      " [0.74056803 1.        ]]\n",
      "國文與英文: [[1.         0.97792828]\n",
      " [0.97792828 1.        ]]\n",
      "與國文相關係數最高的是英文,相關係數為: [[1.         0.97792828]\n",
      " [0.97792828 1.        ]]\n"
     ]
    }
   ],
   "source": [
    "import numpy as np\n",
    "english_score = np.array([55,89,76,65,48,70])\n",
    "math_score = np.array([60,85,60,68,55,60])\n",
    "chinese_score = np.array([65,90,82,72,66,77])\n",
    "print(\"國文與數學:\",np.corrcoef(chinese_score,math_score))\n",
    "print(\"國文與英文:\",np.corrcoef(chinese_score,english_score))\n",
    "print(\"與國文相關係數最高的是英文,相關係數為:\",np.maximum(np.corrcoef(chinese_score,math_score),np.corrcoef(chinese_score,english_score)))"
   ]
  },
  {
   "cell_type": "code",
   "execution_count": null,
   "metadata": {},
   "outputs": [],
   "source": []
  }
 ],
 "metadata": {
  "kernelspec": {
   "display_name": "Python 3",
   "language": "python",
   "name": "python3"
  },
  "language_info": {
   "codemirror_mode": {
    "name": "ipython",
    "version": 3
   },
   "file_extension": ".py",
   "mimetype": "text/x-python",
   "name": "python",
   "nbconvert_exporter": "python",
   "pygments_lexer": "ipython3",
   "version": "3.8.5"
  }
 },
 "nbformat": 4,
 "nbformat_minor": 4
}
